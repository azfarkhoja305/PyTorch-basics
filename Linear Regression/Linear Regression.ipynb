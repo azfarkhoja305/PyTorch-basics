{
 "cells": [
  {
   "cell_type": "markdown",
   "metadata": {},
   "source": [
    "Inspiration from this [kaggle kernel](https://www.kaggle.com/aakashns/pytorch-basics-linear-regression-from-scratch)\n",
    "by Aakash NS"
   ]
  },
  {
   "cell_type": "code",
   "execution_count": 1,
   "metadata": {},
   "outputs": [],
   "source": [
    "import numpy as np\n",
    "import matplotlib.pyplot as plt\n",
    "import torch"
   ]
  },
  {
   "cell_type": "code",
   "execution_count": 2,
   "metadata": {},
   "outputs": [],
   "source": [
    "plt.rcParams['figure.figsize'] = (9,5)"
   ]
  },
  {
   "cell_type": "code",
   "execution_count": 3,
   "metadata": {},
   "outputs": [
    {
     "data": {
      "text/plain": [
       "(True, 'GeForce 920M')"
      ]
     },
     "execution_count": 3,
     "metadata": {},
     "output_type": "execute_result"
    }
   ],
   "source": [
    "# GPU check\n",
    "torch.cuda.is_available(),torch.cuda.get_device_name(0)"
   ]
  },
  {
   "cell_type": "markdown",
   "metadata": {},
   "source": [
    "## Basic Tensor Stuff"
   ]
  },
  {
   "cell_type": "code",
   "execution_count": 4,
   "metadata": {},
   "outputs": [],
   "source": [
    "# Create Tensors\n",
    "x = torch.tensor(5.)\n",
    "w = torch.tensor(7.,requires_grad=True)\n",
    "b = torch.tensor(9.,requires_grad=True)"
   ]
  },
  {
   "cell_type": "code",
   "execution_count": 5,
   "metadata": {},
   "outputs": [
    {
     "name": "stdout",
     "output_type": "stream",
     "text": [
      "tensor(5.)\n",
      "tensor(7., requires_grad=True)\n",
      "tensor(9., requires_grad=True)\n"
     ]
    }
   ],
   "source": [
    "print(x)\n",
    "print(w)\n",
    "print(b)"
   ]
  },
  {
   "cell_type": "code",
   "execution_count": 6,
   "metadata": {},
   "outputs": [],
   "source": [
    "# Arithmetic operation \n",
    "y = w*x + 20*b"
   ]
  },
  {
   "cell_type": "code",
   "execution_count": 7,
   "metadata": {},
   "outputs": [],
   "source": [
    "# Computing gradients\n",
    "y.backward()"
   ]
  },
  {
   "cell_type": "code",
   "execution_count": 8,
   "metadata": {
    "scrolled": true
   },
   "outputs": [
    {
     "name": "stdout",
     "output_type": "stream",
     "text": [
      "dy/dw:  tensor(5.)\n",
      "dy/db:  tensor(20.)\n"
     ]
    }
   ],
   "source": [
    "# Displaying\n",
    "print('dy/dw: ',w.grad)\n",
    "print('dy/db: ',b.grad)"
   ]
  },
  {
   "cell_type": "markdown",
   "metadata": {},
   "source": [
    "## Trying on sample data"
   ]
  },
  {
   "cell_type": "code",
   "execution_count": 9,
   "metadata": {},
   "outputs": [
    {
     "data": {
      "text/plain": [
       "(97, 2)"
      ]
     },
     "execution_count": 9,
     "metadata": {},
     "output_type": "execute_result"
    }
   ],
   "source": [
    "data = np.genfromtxt('ex1data1.txt',delimiter =',')\n",
    "data.shape"
   ]
  },
  {
   "cell_type": "code",
   "execution_count": 10,
   "metadata": {},
   "outputs": [
    {
     "data": {
      "text/plain": [
       "array([[ 6.1101, 17.592 ],\n",
       "       [ 5.5277,  9.1302],\n",
       "       [ 8.5186, 13.662 ],\n",
       "       [ 7.0032, 11.854 ],\n",
       "       [ 5.8598,  6.8233],\n",
       "       [ 8.3829, 11.886 ],\n",
       "       [ 7.4764,  4.3483],\n",
       "       [ 8.5781, 12.    ],\n",
       "       [ 6.4862,  6.5987],\n",
       "       [ 5.0546,  3.8166]])"
      ]
     },
     "execution_count": 10,
     "metadata": {},
     "output_type": "execute_result"
    }
   ],
   "source": [
    "data[:10]"
   ]
  },
  {
   "cell_type": "code",
   "execution_count": 11,
   "metadata": {},
   "outputs": [],
   "source": [
    "inputs = data[:,0].astype('float32')\n",
    "targets = data[:,1].astype('float32')"
   ]
  },
  {
   "cell_type": "code",
   "execution_count": 12,
   "metadata": {},
   "outputs": [
    {
     "data": {
      "image/png": "[encoded data removed]",
      "text/plain": [
       "<Figure size 648x360 with 1 Axes>"
      ]
     },
     "metadata": {
      "needs_background": "light"
     },
     "output_type": "display_data"
    }
   ],
   "source": [
    "# Plotting the data\n",
    "plt.scatter(inputs,targets,c='r')\n",
    "plt.xlabel('Inputs',fontsize=15)\n",
    "plt.ylabel('Targets',fontsize=15)\n",
    "plt.show()"
   ]
  },
  {
   "cell_type": "code",
   "execution_count": 13,
   "metadata": {},
   "outputs": [],
   "source": [
    "X = torch.from_numpy(inputs)\n",
    "Y  = torch.from_numpy(targets)"
   ]
  },
  {
   "cell_type": "markdown",
   "metadata": {},
   "source": [
    "## Linear Regression From Scratch"
   ]
  },
  {
   "cell_type": "code",
   "execution_count": 14,
   "metadata": {},
   "outputs": [],
   "source": [
    "w = torch.zeros(1,requires_grad=True)\n",
    "b = torch.zeros(1,requires_grad=True)"
   ]
  },
  {
   "cell_type": "code",
   "execution_count": 15,
   "metadata": {},
   "outputs": [],
   "source": [
    "def mse(Y,preds):\n",
    "    return torch.sum((Y-preds)**2)/Y.numel()"
   ]
  },
  {
   "cell_type": "code",
   "execution_count": 16,
   "metadata": {},
   "outputs": [],
   "source": [
    "def prediction(X,w,b):\n",
    "    return X*w +b"
   ]
  },
  {
   "cell_type": "code",
   "execution_count": 17,
   "metadata": {},
   "outputs": [],
   "source": [
    "# Function to train\n",
    "def train_loop(X,Y,w,b,num_epochs=100, lr=3e-4):\n",
    "    hist_loss = []\n",
    "    for _ in range(num_epochs):\n",
    "        preds = prediction(X,w,b)\n",
    "        loss = mse(Y,preds)\n",
    "        hist_loss.append(loss)\n",
    "        loss.backward()\n",
    "        with torch.no_grad():\n",
    "            w -= w.grad * lr\n",
    "            b -= b.grad * lr\n",
    "            w.grad.zero_()\n",
    "            b.grad.zero_()\n",
    "    return w,b,hist_loss"
   ]
  },
  {
   "cell_type": "code",
   "execution_count": 18,
   "metadata": {},
   "outputs": [],
   "source": [
    "w,b,hist_cost = train_loop(X,Y,w,b)"
   ]
  },
  {
   "cell_type": "code",
   "execution_count": 19,
   "metadata": {},
   "outputs": [
    {
     "data": {
      "image/png": "[encoded data removed]",
      "text/plain": [
       "<Figure size 648x360 with 1 Axes>"
      ]
     },
     "metadata": {
      "needs_background": "light"
     },
     "output_type": "display_data"
    }
   ],
   "source": [
    "# Checking for convergence\n",
    "plt.plot(hist_cost)\n",
    "plt.show()"
   ]
  },
  {
   "cell_type": "code",
   "execution_count": 20,
   "metadata": {},
   "outputs": [],
   "source": [
    "# Sample points for plotting the final model\n",
    "x1 = min(X)-1\n",
    "x2 = max(X)+2\n",
    "y1 = prediction(x1,w,b)\n",
    "y2 = prediction(x2,w,b)"
   ]
  },
  {
   "cell_type": "code",
   "execution_count": 21,
   "metadata": {},
   "outputs": [
    {
     "data": {
      "image/png": "[encoded data removed]",
      "text/plain": [
       "<Figure size 648x360 with 1 Axes>"
      ]
     },
     "metadata": {
      "needs_background": "light"
     },
     "output_type": "display_data"
    }
   ],
   "source": [
    "# Plotting the final model\n",
    "plt.scatter(inputs,targets,c='r')\n",
    "plt.plot([x1,x2],[y1,y2])\n",
    "plt.xlabel('Inputs',fontsize=15)\n",
    "plt.ylabel('Targets',fontsize=15)\n",
    "plt.show()"
   ]
  },
  {
   "cell_type": "markdown",
   "metadata": {},
   "source": [
    "## Using PyTorch built-ins"
   ]
  },
  {
   "cell_type": "code",
   "execution_count": 22,
   "metadata": {},
   "outputs": [],
   "source": [
    "import torch.nn as nn\n",
    "from torch.utils.data import TensorDataset, DataLoader"
   ]
  },
  {
   "cell_type": "code",
   "execution_count": 23,
   "metadata": {},
   "outputs": [
    {
     "data": {
      "text/plain": [
       "(tensor(6.1101), tensor(17.5920))"
      ]
     },
     "execution_count": 23,
     "metadata": {},
     "output_type": "execute_result"
    }
   ],
   "source": [
    "# Creating a Dataset\n",
    "train_ds = TensorDataset(X,Y)\n",
    "train_ds[0]"
   ]
  },
  {
   "cell_type": "code",
   "execution_count": 24,
   "metadata": {},
   "outputs": [
    {
     "data": {
      "text/plain": [
       "[tensor([8.5172, 5.2524, 6.3557, 7.9334, 6.2742]),\n",
       " tensor([ 4.2415, -1.2200,  0.6786,  4.5623,  2.4756])]"
      ]
     },
     "execution_count": 24,
     "metadata": {},
     "output_type": "execute_result"
    }
   ],
   "source": [
    "# Creating a temporary data loadaer for illustration purpose \n",
    "temp_dl = DataLoader(train_ds,batch_size=5,shuffle=True)\n",
    "# Getting the next batch out of the data loader\n",
    "next(iter(temp_dl))"
   ]
  },
  {
   "cell_type": "code",
   "execution_count": 25,
   "metadata": {},
   "outputs": [],
   "source": [
    "# Actual data loader\n",
    "train_dl = DataLoader(train_ds,batch_size=10,shuffle=True)"
   ]
  },
  {
   "cell_type": "code",
   "execution_count": 26,
   "metadata": {},
   "outputs": [
    {
     "name": "stdout",
     "output_type": "stream",
     "text": [
      "Parameter containing:\n",
      "tensor([[-0.4036]], requires_grad=True)\n",
      "Parameter containing:\n",
      "tensor([0.4095], requires_grad=True)\n"
     ]
    }
   ],
   "source": [
    "# Defining a model\n",
    "model = nn.Linear(1,1)\n",
    "print(model.weight)\n",
    "print(model.bias)"
   ]
  },
  {
   "cell_type": "code",
   "execution_count": 27,
   "metadata": {},
   "outputs": [
    {
     "name": "stdout",
     "output_type": "stream",
     "text": [
      "tensor(122.8287, grad_fn=<MseLossBackward>)\n"
     ]
    }
   ],
   "source": [
    "# Creating a Loss Function and computing the current loss\n",
    "import torch.nn.functional as F\n",
    "loss_fn = F.mse_loss\n",
    "loss = loss_fn(model(X.reshape(-1,1)),Y.reshape(-1,1))\n",
    "print(loss)"
   ]
  },
  {
   "cell_type": "code",
   "execution_count": 28,
   "metadata": {},
   "outputs": [],
   "source": [
    "# Function to train\n",
    "def train(train_dl,model,num_epochs = 100):\n",
    "    hist_loss = []\n",
    "    epoch_loss = []\n",
    "    optimizer = torch.optim.SGD(model.parameters(),lr = 3e-5)\n",
    "    loss_fn = F.mse_loss\n",
    "    for _ in range(num_epochs):\n",
    "        for batch_x,batch_y in train_dl:\n",
    "            preds = model(batch_x.reshape(-1,1))\n",
    "            loss = loss_fn(preds,batch_y.reshape(-1,1))\n",
    "            hist_loss.append(loss)\n",
    "            loss.backward()\n",
    "            optimizer.step()\n",
    "            optimizer.zero_grad()\n",
    "        \n",
    "        epoch_loss.append(sum(hist_loss)/len(hist_loss))\n",
    "        hist_loss = []\n",
    "        \n",
    "    return model,epoch_loss"
   ]
  },
  {
   "cell_type": "code",
   "execution_count": 29,
   "metadata": {},
   "outputs": [],
   "source": [
    "final_model,hist_cost = train(train_dl,model)"
   ]
  },
  {
   "cell_type": "code",
   "execution_count": 30,
   "metadata": {},
   "outputs": [
    {
     "data": {
      "image/png": "[encoded data removed]",
      "text/plain": [
       "<Figure size 648x360 with 1 Axes>"
      ]
     },
     "metadata": {
      "needs_background": "light"
     },
     "output_type": "display_data"
    }
   ],
   "source": [
    "# Checking for convergence\n",
    "plt.plot(hist_cost)\n",
    "plt.show()"
   ]
  },
  {
   "cell_type": "code",
   "execution_count": 31,
   "metadata": {},
   "outputs": [],
   "source": [
    "# Sample points for plotting the final model\n",
    "y1 = final_model(x1.reshape(1,1))\n",
    "y2 = final_model(x2.reshape(1,1))"
   ]
  },
  {
   "cell_type": "code",
   "execution_count": 32,
   "metadata": {},
   "outputs": [
    {
     "data": {
      "image/png": "[encoded data removed]",
      "text/plain": [
       "<Figure size 648x360 with 1 Axes>"
      ]
     },
     "metadata": {
      "needs_background": "light"
     },
     "output_type": "display_data"
    }
   ],
   "source": [
    "# Plotting the final model\n",
    "plt.scatter(inputs,targets,c='r')\n",
    "plt.plot([x1,x2],[y1,y2])\n",
    "plt.xlabel('Inputs',fontsize=15)\n",
    "plt.ylabel('Targets',fontsize=15)\n",
    "plt.show()"
   ]
  },
  {
   "cell_type": "code",
   "execution_count": null,
   "metadata": {},
   "outputs": [],
   "source": []
  }
 ],
 "metadata": {
  "kernelspec": {
   "display_name": "Python 3",
   "language": "python",
   "name": "python3"
  },
  "language_info": {
   "codemirror_mode": {
    "name": "ipython",
    "version": 3
   },
   "file_extension": ".py",
   "mimetype": "text/x-python",
   "name": "python",
   "nbconvert_exporter": "python",
   "pygments_lexer": "ipython3",
   "version": "3.7.0"
  }
 },
 "nbformat": 4,
 "nbformat_minor": 2
}
